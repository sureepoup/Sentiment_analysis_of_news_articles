{
 "cells": [
  {
   "cell_type": "code",
   "execution_count": 7,
   "metadata": {
    "ExecuteTime": {
     "end_time": "2018-12-14T12:58:27.189622Z",
     "start_time": "2018-12-14T12:58:27.156174Z"
    }
   },
   "outputs": [
    {
     "name": "stdout",
     "output_type": "stream",
     "text": [
      "The autoreload extension is already loaded. To reload it, use:\n",
      "  %reload_ext autoreload\n"
     ]
    }
   ],
   "source": [
    "import re\n",
    "from nltk.corpus import stopwords\n",
    "#from nltk.tokenize import word_tokenize\n",
    "\n",
    "from razdel import tokenize # https://github.com/natasha/razdel\n",
    "#!pip install razdel\n",
    "\n",
    "import pymorphy2  # pip install pymorphy2\n",
    "\n",
    "%load_ext autoreload\n",
    "%autoreload 2"
   ]
  },
  {
   "cell_type": "code",
   "execution_count": 8,
   "metadata": {
    "ExecuteTime": {
     "end_time": "2018-12-14T12:58:27.306978Z",
     "start_time": "2018-12-14T12:58:27.192581Z"
    }
   },
   "outputs": [],
   "source": [
    "morph = pymorphy2.MorphAnalyzer()"
   ]
  },
  {
   "cell_type": "markdown",
   "metadata": {},
   "source": [
    "### prepare stop words"
   ]
  },
  {
   "cell_type": "code",
   "execution_count": 9,
   "metadata": {
    "ExecuteTime": {
     "end_time": "2018-12-14T12:58:27.371189Z",
     "start_time": "2018-12-14T12:58:27.308844Z"
    }
   },
   "outputs": [
    {
     "data": {
      "text/plain": [
       "151"
      ]
     },
     "execution_count": 9,
     "metadata": {},
     "output_type": "execute_result"
    }
   ],
   "source": [
    "stopword_ru = stopwords.words('russian')\n",
    "len(stopword_ru)"
   ]
  },
  {
   "cell_type": "code",
   "execution_count": 10,
   "metadata": {
    "ExecuteTime": {
     "end_time": "2018-12-14T12:58:27.425453Z",
     "start_time": "2018-12-14T12:58:27.373147Z"
    }
   },
   "outputs": [
    {
     "data": {
      "text/plain": [
       "205"
      ]
     },
     "execution_count": 10,
     "metadata": {},
     "output_type": "execute_result"
    }
   ],
   "source": [
    "with open('stopwords.txt', 'r', encoding='utf-8') as f:\n",
    "    for w in f.readlines():\n",
    "        stopword_ru.append(w)\n",
    "        \n",
    "len(stopword_ru)"
   ]
  },
  {
   "cell_type": "code",
   "execution_count": null,
   "metadata": {},
   "outputs": [],
   "source": []
  },
  {
   "cell_type": "markdown",
   "metadata": {},
   "source": [
    "* ## clean text"
   ]
  },
  {
   "cell_type": "code",
   "execution_count": 11,
   "metadata": {
    "ExecuteTime": {
     "end_time": "2018-12-14T12:58:27.474817Z",
     "start_time": "2018-12-14T12:58:27.427033Z"
    }
   },
   "outputs": [],
   "source": [
    "text=''' Президент Белоруссии Александр Лукашенко выразил резкое недовольство моральным обликом украинских военных, действующих в зоне конфликта на юго-востоке страны. Соответствующее заявление он сделал на пресс-конференции для российских журналистов, передает БЕЛТА.\n",
    "«Я вам скажу свою позицию: все боятся, что там [на Украине] будет НАТО. Я недавно [президенту России] Владимиру Владимировичу [Путину] сказал: слушай, мы с тобой скоро Господа будем просить, чтобы там было НАТО, а не отмороженные нацмены с ружьем», — сказал Лукашенко.'''\n"
   ]
  },
  {
   "cell_type": "code",
   "execution_count": 12,
   "metadata": {
    "ExecuteTime": {
     "end_time": "2018-12-14T12:58:27.531559Z",
     "start_time": "2018-12-14T12:58:27.476962Z"
    }
   },
   "outputs": [
    {
     "data": {
      "text/plain": [
       "'президент белоруссии александр лукашенко выразил резкое недовольство моральным обликом украинских военных действующих в зоне конфликта на юговостоке страны соответствующее заявление он сделал на прессконференции для российских журналистов передает белта я вам скажу свою позицию все боятся что там на украине будет нато я недавно президенту россии владимиру владимировичу путину сказал слушай мы с тобой скоро господа будем просить чтобы там было нато а не отмороженные нацмены с ружьем  сказал лукашенко'"
      ]
     },
     "execution_count": 12,
     "metadata": {},
     "output_type": "execute_result"
    }
   ],
   "source": [
    "def clean_text(text):\n",
    "    '''\n",
    "    очистка текста\n",
    "    \n",
    "    на выходе очищеный текст\n",
    "    \n",
    "    '''\n",
    "   \n",
    "    if not isinstance(text, str):\n",
    "        text = str(text)\n",
    "    \n",
    "    text = text.lower()\n",
    "    text = text.strip('\\n').strip('\\r').strip('\\t')\n",
    "\n",
    "    text = re.sub(\"-\\s\\r\\n\\|-\\s\\r\\n|\\r\\n\", '', str(text))\n",
    "\n",
    "    text = re.sub(\"[0-9]|[-—.,:;_%©«»?*!@#№$^•·&()]|[+=]|[[]|[]]|[/]|\", '', text)\n",
    "    text = re.sub(r\"\\r\\n\\t|\\n|\\\\s|\\r\\t|\\\\n\", ' ', text)\n",
    "    text = re.sub(r'[\\xad]|[\\s+]', ' ', text.strip())\n",
    "\n",
    "    return text\n",
    "\n",
    "clean_text(text)"
   ]
  },
  {
   "cell_type": "code",
   "execution_count": 13,
   "metadata": {
    "ExecuteTime": {
     "end_time": "2018-12-14T12:58:27.593163Z",
     "start_time": "2018-12-14T12:58:27.533479Z"
    }
   },
   "outputs": [],
   "source": [
    "clean_text=clean_text(text)"
   ]
  },
  {
   "cell_type": "markdown",
   "metadata": {},
   "source": [
    "* ## lemmatization  "
   ]
  },
  {
   "cell_type": "code",
   "execution_count": null,
   "metadata": {
    "ExecuteTime": {
     "end_time": "2018-12-14T11:46:59.108724Z",
     "start_time": "2018-12-14T11:46:59.106173Z"
    }
   },
   "outputs": [],
   "source": []
  },
  {
   "cell_type": "markdown",
   "metadata": {},
   "source": [
    "дропаем стоп-слова ДО лемматизации"
   ]
  },
  {
   "cell_type": "code",
   "execution_count": 14,
   "metadata": {
    "ExecuteTime": {
     "end_time": "2018-12-14T12:58:27.651353Z",
     "start_time": "2018-12-14T12:58:27.595420Z"
    }
   },
   "outputs": [],
   "source": [
    "cache = {}\n",
    "\n",
    "def lemmatization(text):\n",
    "    '''\n",
    "    лемматизация\n",
    "        [0] если зашел тип не `str` делаем его `str`\n",
    "        [1] токенизация предложения через razdel\n",
    "        [2] проверка есть ли в начале слова '-'\n",
    "        [3] проверка на стоп-слова\n",
    "        [4] проверка токена с одного символа\n",
    "        [5] проверка есть ли данное слово в кэше\n",
    "        [6] лемматизация слова\n",
    "\n",
    "    на выходе лист отлемматизированых токенов\n",
    "    '''\n",
    "\n",
    "    # [0]\n",
    "    if not isinstance(text, str):\n",
    "        text = str(text)\n",
    "    \n",
    "    # [1]\n",
    "    tokens = list(tokenize(text))\n",
    "    words = [_.text for _ in tokens]\n",
    "\n",
    "    \n",
    "    words_lem = []\n",
    "    for w in words:\n",
    "        if w[0] == '-': # [2]\n",
    "            w = w[1:]\n",
    "        if not w in stopword_ru: # [3]\n",
    "            if len(w)>1: # [4]\n",
    "                if w in cache: # [5]\n",
    "                    words_lem.append(cache[w])\n",
    "                else: # [6]\n",
    "                    temp_cach = cache[w] = morph.parse(w)[0].normal_form\n",
    "                    words_lem.append(temp_cach)\n",
    "    return words_lem"
   ]
  },
  {
   "cell_type": "code",
   "execution_count": 15,
   "metadata": {
    "ExecuteTime": {
     "end_time": "2018-12-14T12:58:27.715343Z",
     "start_time": "2018-12-14T12:58:27.653001Z"
    }
   },
   "outputs": [
    {
     "name": "stdout",
     "output_type": "stream",
     "text": [
      "['президент', 'белоруссия', 'александр', 'лукашенко', 'выразить', 'резкий', 'недовольство', 'моральный', 'облик', 'украинский', 'военный', 'действующий', 'зона', 'конфликт', 'юговосток', 'страна', 'соответствующий', 'заявление', 'сделать', 'прессконференция', 'российский', 'журналист', 'передавать', 'бёлтый', 'сказать', 'позиция', 'бояться', 'украина', 'нато', 'недавно', 'президент', 'россия', 'владимир', 'владимир', 'путин', 'сказать', 'слушай', 'ты', 'скоро', 'господин', 'быть', 'просить', 'нато', 'отморозить', 'нацмен', 'ружьё', 'сказать', 'лукашенко']\n"
     ]
    }
   ],
   "source": [
    "print(lemmatization(clean_text))"
   ]
  },
  {
   "cell_type": "code",
   "execution_count": 16,
   "metadata": {
    "ExecuteTime": {
     "end_time": "2018-12-14T12:58:27.777296Z",
     "start_time": "2018-12-14T12:58:27.717435Z"
    }
   },
   "outputs": [
    {
     "data": {
      "text/plain": [
       "['ехать']"
      ]
     },
     "execution_count": 16,
     "metadata": {},
     "output_type": "execute_result"
    }
   ],
   "source": [
    "lemmatization(['ехали','в'])"
   ]
  },
  {
   "cell_type": "markdown",
   "metadata": {},
   "source": [
    "дропаем стоп-слова ПОСЛЕ лемматизации"
   ]
  },
  {
   "cell_type": "code",
   "execution_count": 17,
   "metadata": {
    "ExecuteTime": {
     "end_time": "2018-12-14T12:58:27.833645Z",
     "start_time": "2018-12-14T12:58:27.779398Z"
    }
   },
   "outputs": [],
   "source": [
    "cache = {}\n",
    "\n",
    "def lemmatization(text):\n",
    "    '''\n",
    "    лемматизация\n",
    "        [0] если зашел тип не `str` делаем его `str`\n",
    "        [1] токенизация предложения через razdel\n",
    "        [2] проверка есть ли в начале слова '-'\n",
    "        [3] проверка токена с одного символа\n",
    "        [4] проверка есть ли данное слово в кэше\n",
    "        [5] лемматизация слова\n",
    "        [6] проверка на стоп-слова\n",
    "\n",
    "    на выходе лист отлемматизированых токенов\n",
    "    '''\n",
    "\n",
    "    # [0]\n",
    "    if not isinstance(text, str):\n",
    "        text = str(text)\n",
    "    \n",
    "    # [1]\n",
    "    tokens = list(tokenize(text))\n",
    "    words = [_.text for _ in tokens]\n",
    "\n",
    "    words_lem = []\n",
    "    for w in words:\n",
    "        if w[0] == '-': # [2]\n",
    "            w = w[1:]\n",
    "        if len(w)>1: # [3]\n",
    "            if w in cache: # [4]\n",
    "                words_lem.append(cache[w])\n",
    "            else: # [5]\n",
    "                temp_cach = cache[w] = morph.parse(w)[0].normal_form\n",
    "                words_lem.append(temp_cach)\n",
    "    \n",
    "    words_lem_without_stopwords=[i for i in words_lem if not i in stopword_ru] # [6]\n",
    "    \n",
    "    return words_lem_without_stopwords"
   ]
  },
  {
   "cell_type": "code",
   "execution_count": 18,
   "metadata": {
    "ExecuteTime": {
     "end_time": "2018-12-14T12:58:27.897867Z",
     "start_time": "2018-12-14T12:58:27.835660Z"
    }
   },
   "outputs": [
    {
     "name": "stdout",
     "output_type": "stream",
     "text": [
      "['президент', 'белоруссия', 'александр', 'лукашенко', 'выразить', 'резкий', 'недовольство', 'моральный', 'облик', 'украинский', 'военный', 'действующий', 'зона', 'конфликт', 'юговосток', 'страна', 'соответствующий', 'заявление', 'сделать', 'прессконференция', 'российский', 'журналист', 'передавать', 'бёлтый', 'сказать', 'свой', 'позиция', 'весь', 'бояться', 'украина', 'нато', 'недавно', 'президент', 'россия', 'владимир', 'владимир', 'путин', 'сказать', 'слушай', 'скоро', 'господин', 'просить', 'нато', 'отморозить', 'нацмен', 'ружьё', 'сказать', 'лукашенко']\n"
     ]
    }
   ],
   "source": [
    "print(lemmatization(clean_text))"
   ]
  },
  {
   "cell_type": "code",
   "execution_count": 19,
   "metadata": {
    "ExecuteTime": {
     "end_time": "2018-12-14T12:58:27.962523Z",
     "start_time": "2018-12-14T12:58:27.900347Z"
    }
   },
   "outputs": [
    {
     "data": {
      "text/plain": [
       "['ехать']"
      ]
     },
     "execution_count": 19,
     "metadata": {},
     "output_type": "execute_result"
    }
   ],
   "source": [
    "lemmatization(['ехали','в'])"
   ]
  },
  {
   "cell_type": "code",
   "execution_count": null,
   "metadata": {},
   "outputs": [],
   "source": []
  },
  {
   "cell_type": "markdown",
   "metadata": {},
   "source": [
    "---"
   ]
  },
  {
   "cell_type": "code",
   "execution_count": 3,
   "metadata": {
    "ExecuteTime": {
     "end_time": "2018-12-14T12:57:57.824561Z",
     "start_time": "2018-12-14T12:57:57.744762Z"
    }
   },
   "outputs": [],
   "source": [
    "import preprocessing_tools as pr"
   ]
  },
  {
   "cell_type": "code",
   "execution_count": 4,
   "metadata": {
    "ExecuteTime": {
     "end_time": "2018-12-14T12:57:58.086304Z",
     "start_time": "2018-12-14T12:57:58.056778Z"
    }
   },
   "outputs": [],
   "source": [
    "text=''' Президент Белоруссии Александр Лукашенко выразил резкое недовольство моральным обликом украинских военных, действующих в зоне конфликта на юго-востоке страны. Соответствующее заявление он сделал на пресс-конференции для российских журналистов, передает БЕЛТА.\n",
    "«Я вам скажу свою позицию: все боятся, что там [на Украине] будет НАТО. Я недавно [президенту России] Владимиру Владимировичу [Путину] сказал: слушай, мы с тобой скоро Господа будем просить, чтобы там было НАТО, а не отмороженные нацмены с ружьем», — сказал Лукашенко.'''"
   ]
  },
  {
   "cell_type": "code",
   "execution_count": 5,
   "metadata": {
    "ExecuteTime": {
     "end_time": "2018-12-14T12:57:58.430063Z",
     "start_time": "2018-12-14T12:57:58.352993Z"
    }
   },
   "outputs": [
    {
     "data": {
      "text/plain": [
       "'президент белоруссии александр лукашенко выразил резкое недовольство моральным обликом украинских военных действующих в зоне конфликта на юговостоке страны соответствующее заявление он сделал на прессконференции для российских журналистов передает белта я вам скажу свою позицию все боятся что там на украине будет нато я недавно президенту россии владимиру владимировичу путину сказал слушай мы с тобой скоро господа будем просить чтобы там было нато а не отмороженные нацмены с ружьем  сказал лукашенко'"
      ]
     },
     "execution_count": 5,
     "metadata": {},
     "output_type": "execute_result"
    }
   ],
   "source": [
    "%reload_ext autoreload\n",
    "clean_text = pr.clean_text(text)\n",
    "clean_text"
   ]
  },
  {
   "cell_type": "code",
   "execution_count": 6,
   "metadata": {
    "ExecuteTime": {
     "end_time": "2018-12-14T12:57:59.109445Z",
     "start_time": "2018-12-14T12:57:59.018888Z"
    }
   },
   "outputs": [
    {
     "name": "stdout",
     "output_type": "stream",
     "text": [
      "['президент', 'белоруссия', 'александр', 'лукашенко', 'выразить', 'резкий', 'недовольство', 'моральный', 'облик', 'украинский', 'военный', 'действующий', 'зона', 'конфликт', 'юговосток', 'страна', 'соответствующий', 'заявление', 'сделать', 'прессконференция', 'российский', 'журналист', 'передавать', 'бёлтый', 'сказать', 'свой', 'позиция', 'весь', 'бояться', 'украина', 'нато', 'недавно', 'президент', 'россия', 'владимир', 'владимир', 'путин', 'сказать', 'слушай', 'скоро', 'господин', 'просить', 'нато', 'отморозить', 'нацмен', 'ружьё', 'сказать', 'лукашенко']\n"
     ]
    }
   ],
   "source": [
    "%reload_ext autoreload\n",
    "print(pr.lemmatization(clean_text))"
   ]
  },
  {
   "cell_type": "code",
   "execution_count": null,
   "metadata": {},
   "outputs": [],
   "source": []
  }
 ],
 "metadata": {
  "kernelspec": {
   "display_name": "Python 3",
   "language": "python",
   "name": "python3"
  },
  "language_info": {
   "codemirror_mode": {
    "name": "ipython",
    "version": 3
   },
   "file_extension": ".py",
   "mimetype": "text/x-python",
   "name": "python",
   "nbconvert_exporter": "python",
   "pygments_lexer": "ipython3",
   "version": "3.7.1"
  },
  "varInspector": {
   "cols": {
    "lenName": 16,
    "lenType": 16,
    "lenVar": 40
   },
   "kernels_config": {
    "python": {
     "delete_cmd_postfix": "",
     "delete_cmd_prefix": "del ",
     "library": "var_list.py",
     "varRefreshCmd": "print(var_dic_list())"
    },
    "r": {
     "delete_cmd_postfix": ") ",
     "delete_cmd_prefix": "rm(",
     "library": "var_list.r",
     "varRefreshCmd": "cat(var_dic_list()) "
    }
   },
   "types_to_exclude": [
    "module",
    "function",
    "builtin_function_or_method",
    "instance",
    "_Feature"
   ],
   "window_display": false
  }
 },
 "nbformat": 4,
 "nbformat_minor": 2
}
